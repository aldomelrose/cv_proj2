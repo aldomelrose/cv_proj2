{
 "cells": [
  {
   "cell_type": "markdown",
   "metadata": {},
   "source": [
    "# Sign Language Recognition - Trial 1: Classical ML\n",
    "This notebook implements static gesture recognition using classical ML approaches."
   ]
  },
  {
   "cell_type": "code",
   "execution_count": 5,
   "metadata": {},
   "outputs": [],
   "source": [
    "import os\n",
    "import cv2\n",
    "import numpy as np\n",
    "import mediapipe as mp\n",
    "from sklearn.model_selection import train_test_split\n",
    "from sklearn.ensemble import RandomForestClassifier\n",
    "from sklearn.svm import SVC\n",
    "import matplotlib.pyplot as plt\n",
    "import seaborn as sns\n",
    "from sklearn.metrics import confusion_matrix, classification_report\n",
    "from tqdm.notebook import tqdm"
   ]
  },
  {
   "cell_type": "markdown",
   "metadata": {},
   "source": [
    "## 1. Data Processing with MediaPipe"
   ]
  },
  {
   "cell_type": "code",
   "execution_count": 12,
   "metadata": {},
   "outputs": [
    {
     "name": "stdout",
     "output_type": "stream",
     "text": [
      "Processing dataset...\n",
      "\n",
      "Processing A (folder 0)\n",
      "Found 100 images\n"
     ]
    },
    {
     "name": "stderr",
     "output_type": "stream",
     "text": [
      "I0000 00:00:1731354004.049122 1957621 gl_context.cc:357] GL version: 2.1 (2.1 Metal - 88), renderer: Apple M2\n"
     ]
    },
    {
     "data": {
      "application/vnd.jupyter.widget-view+json": {
       "model_id": "55e9dc9265f942f5931a588ebfcde50f",
       "version_major": 2,
       "version_minor": 0
      },
      "text/plain": [
       "Processing A:   0%|          | 0/100 [00:00<?, ?it/s]"
      ]
     },
     "metadata": {},
     "output_type": "display_data"
    },
    {
     "name": "stderr",
     "output_type": "stream",
     "text": [
      "W0000 00:00:1731354004.081980 1974013 inference_feedback_manager.cc:114] Feedback manager requires a model with a single signature inference. Disabling support for feedback tensors.\n",
      "W0000 00:00:1731354004.097134 1974015 inference_feedback_manager.cc:114] Feedback manager requires a model with a single signature inference. Disabling support for feedback tensors.\n",
      "W0000 00:00:1731354004.230481 1974008 landmark_projection_calculator.cc:186] Using NORM_RECT without IMAGE_DIMENSIONS is only supported for the square ROI. Provide IMAGE_DIMENSIONS or use PROJECTION_MATRIX.\n",
      "/Library/Frameworks/Python.framework/Versions/3.11/lib/python3.11/site-packages/google/protobuf/symbol_database.py:55: UserWarning: SymbolDatabase.GetPrototype() is deprecated. Please use message_factory.GetMessageClass() instead. SymbolDatabase.GetPrototype() will be removed soon.\n",
      "  warnings.warn('SymbolDatabase.GetPrototype() is deprecated. Please '\n"
     ]
    },
    {
     "name": "stdout",
     "output_type": "stream",
     "text": [
      "\n",
      "Gesture A statistics:\n",
      "Successful extractions: 100\n",
      "Failed extractions: 0\n",
      "\n",
      "Processing B (folder 1)\n",
      "Found 100 images\n"
     ]
    },
    {
     "data": {
      "application/vnd.jupyter.widget-view+json": {
       "model_id": "097249e283dd425f80fb78ec7cffcdd1",
       "version_major": 2,
       "version_minor": 0
      },
      "text/plain": [
       "Processing B:   0%|          | 0/100 [00:00<?, ?it/s]"
      ]
     },
     "metadata": {},
     "output_type": "display_data"
    },
    {
     "name": "stdout",
     "output_type": "stream",
     "text": [
      "\n",
      "Gesture B statistics:\n",
      "Successful extractions: 100\n",
      "Failed extractions: 0\n",
      "\n",
      "Processing K (folder 10)\n",
      "Found 100 images\n"
     ]
    },
    {
     "data": {
      "application/vnd.jupyter.widget-view+json": {
       "model_id": "ad7bbf4b1f1b49aa8bac016f2de0f128",
       "version_major": 2,
       "version_minor": 0
      },
      "text/plain": [
       "Processing K:   0%|          | 0/100 [00:00<?, ?it/s]"
      ]
     },
     "metadata": {},
     "output_type": "display_data"
    },
    {
     "name": "stdout",
     "output_type": "stream",
     "text": [
      "\n",
      "Gesture K statistics:\n",
      "Successful extractions: 95\n",
      "Failed extractions: 5\n",
      "\n",
      "Processing L (folder 11)\n",
      "Found 100 images\n"
     ]
    },
    {
     "data": {
      "application/vnd.jupyter.widget-view+json": {
       "model_id": "380eeba013cd49668e8c7c60a76b04cc",
       "version_major": 2,
       "version_minor": 0
      },
      "text/plain": [
       "Processing L:   0%|          | 0/100 [00:00<?, ?it/s]"
      ]
     },
     "metadata": {},
     "output_type": "display_data"
    },
    {
     "name": "stdout",
     "output_type": "stream",
     "text": [
      "\n",
      "Gesture L statistics:\n",
      "Successful extractions: 100\n",
      "Failed extractions: 0\n",
      "\n",
      "Processing M (folder 12)\n",
      "Found 100 images\n"
     ]
    },
    {
     "data": {
      "application/vnd.jupyter.widget-view+json": {
       "model_id": "81bef50ad33d4fc7a9d4d262e14d0efb",
       "version_major": 2,
       "version_minor": 0
      },
      "text/plain": [
       "Processing M:   0%|          | 0/100 [00:00<?, ?it/s]"
      ]
     },
     "metadata": {},
     "output_type": "display_data"
    },
    {
     "name": "stdout",
     "output_type": "stream",
     "text": [
      "\n",
      "Gesture M statistics:\n",
      "Successful extractions: 100\n",
      "Failed extractions: 0\n",
      "\n",
      "Processing N (folder 13)\n",
      "Found 100 images\n"
     ]
    },
    {
     "data": {
      "application/vnd.jupyter.widget-view+json": {
       "model_id": "e16dd0ae3bde48f28474097518254a50",
       "version_major": 2,
       "version_minor": 0
      },
      "text/plain": [
       "Processing N:   0%|          | 0/100 [00:00<?, ?it/s]"
      ]
     },
     "metadata": {},
     "output_type": "display_data"
    },
    {
     "name": "stdout",
     "output_type": "stream",
     "text": [
      "\n",
      "Gesture N statistics:\n",
      "Successful extractions: 100\n",
      "Failed extractions: 0\n",
      "\n",
      "Processing O (folder 14)\n",
      "Found 100 images\n"
     ]
    },
    {
     "data": {
      "application/vnd.jupyter.widget-view+json": {
       "model_id": "1ad20857609c4ef7ae8c8520225f35fe",
       "version_major": 2,
       "version_minor": 0
      },
      "text/plain": [
       "Processing O:   0%|          | 0/100 [00:00<?, ?it/s]"
      ]
     },
     "metadata": {},
     "output_type": "display_data"
    },
    {
     "name": "stdout",
     "output_type": "stream",
     "text": [
      "\n",
      "Gesture O statistics:\n",
      "Successful extractions: 100\n",
      "Failed extractions: 0\n",
      "\n",
      "Processing P (folder 15)\n",
      "Found 100 images\n"
     ]
    },
    {
     "data": {
      "application/vnd.jupyter.widget-view+json": {
       "model_id": "a9345320102b4b5fa9b3f685193ac876",
       "version_major": 2,
       "version_minor": 0
      },
      "text/plain": [
       "Processing P:   0%|          | 0/100 [00:00<?, ?it/s]"
      ]
     },
     "metadata": {},
     "output_type": "display_data"
    },
    {
     "name": "stdout",
     "output_type": "stream",
     "text": [
      "\n",
      "Gesture P statistics:\n",
      "Successful extractions: 100\n",
      "Failed extractions: 0\n",
      "\n",
      "Processing Q (folder 16)\n",
      "Found 100 images\n"
     ]
    },
    {
     "data": {
      "application/vnd.jupyter.widget-view+json": {
       "model_id": "18f4bafcdd774f9089b4bba9e46b47c5",
       "version_major": 2,
       "version_minor": 0
      },
      "text/plain": [
       "Processing Q:   0%|          | 0/100 [00:00<?, ?it/s]"
      ]
     },
     "metadata": {},
     "output_type": "display_data"
    },
    {
     "name": "stdout",
     "output_type": "stream",
     "text": [
      "\n",
      "Gesture Q statistics:\n",
      "Successful extractions: 100\n",
      "Failed extractions: 0\n",
      "\n",
      "Processing R (folder 17)\n",
      "Found 100 images\n"
     ]
    },
    {
     "data": {
      "application/vnd.jupyter.widget-view+json": {
       "model_id": "ff39e2c4530c4694b2949d78e1d1b470",
       "version_major": 2,
       "version_minor": 0
      },
      "text/plain": [
       "Processing R:   0%|          | 0/100 [00:00<?, ?it/s]"
      ]
     },
     "metadata": {},
     "output_type": "display_data"
    },
    {
     "name": "stdout",
     "output_type": "stream",
     "text": [
      "\n",
      "Gesture R statistics:\n",
      "Successful extractions: 100\n",
      "Failed extractions: 0\n",
      "\n",
      "Processing S (folder 18)\n",
      "Found 100 images\n"
     ]
    },
    {
     "data": {
      "application/vnd.jupyter.widget-view+json": {
       "model_id": "a398e9f5fec7494d8130fd0e402b3440",
       "version_major": 2,
       "version_minor": 0
      },
      "text/plain": [
       "Processing S:   0%|          | 0/100 [00:00<?, ?it/s]"
      ]
     },
     "metadata": {},
     "output_type": "display_data"
    },
    {
     "name": "stdout",
     "output_type": "stream",
     "text": [
      "\n",
      "Gesture S statistics:\n",
      "Successful extractions: 100\n",
      "Failed extractions: 0\n",
      "\n",
      "Processing T (folder 19)\n",
      "Found 100 images\n"
     ]
    },
    {
     "data": {
      "application/vnd.jupyter.widget-view+json": {
       "model_id": "b36e46d8e3294b43a28659ff845fa1aa",
       "version_major": 2,
       "version_minor": 0
      },
      "text/plain": [
       "Processing T:   0%|          | 0/100 [00:00<?, ?it/s]"
      ]
     },
     "metadata": {},
     "output_type": "display_data"
    },
    {
     "name": "stdout",
     "output_type": "stream",
     "text": [
      "\n",
      "Gesture T statistics:\n",
      "Successful extractions: 100\n",
      "Failed extractions: 0\n",
      "\n",
      "Processing C (folder 2)\n",
      "Found 100 images\n"
     ]
    },
    {
     "data": {
      "application/vnd.jupyter.widget-view+json": {
       "model_id": "c65df9b3d867450f9aef9bdcd98697b1",
       "version_major": 2,
       "version_minor": 0
      },
      "text/plain": [
       "Processing C:   0%|          | 0/100 [00:00<?, ?it/s]"
      ]
     },
     "metadata": {},
     "output_type": "display_data"
    },
    {
     "name": "stdout",
     "output_type": "stream",
     "text": [
      "\n",
      "Gesture C statistics:\n",
      "Successful extractions: 100\n",
      "Failed extractions: 0\n",
      "\n",
      "Processing U (folder 20)\n",
      "Found 100 images\n"
     ]
    },
    {
     "data": {
      "application/vnd.jupyter.widget-view+json": {
       "model_id": "6b2169f25e9b42db961d0293396e4307",
       "version_major": 2,
       "version_minor": 0
      },
      "text/plain": [
       "Processing U:   0%|          | 0/100 [00:00<?, ?it/s]"
      ]
     },
     "metadata": {},
     "output_type": "display_data"
    },
    {
     "name": "stdout",
     "output_type": "stream",
     "text": [
      "\n",
      "Gesture U statistics:\n",
      "Successful extractions: 98\n",
      "Failed extractions: 2\n",
      "\n",
      "Processing V (folder 21)\n",
      "Found 100 images\n"
     ]
    },
    {
     "data": {
      "application/vnd.jupyter.widget-view+json": {
       "model_id": "47e07ff5dfce418389d9a72c43425cd4",
       "version_major": 2,
       "version_minor": 0
      },
      "text/plain": [
       "Processing V:   0%|          | 0/100 [00:00<?, ?it/s]"
      ]
     },
     "metadata": {},
     "output_type": "display_data"
    },
    {
     "name": "stdout",
     "output_type": "stream",
     "text": [
      "\n",
      "Gesture V statistics:\n",
      "Successful extractions: 100\n",
      "Failed extractions: 0\n",
      "\n",
      "Processing W (folder 22)\n",
      "Found 100 images\n"
     ]
    },
    {
     "data": {
      "application/vnd.jupyter.widget-view+json": {
       "model_id": "a342d8cb52034d4e916bde1685a08e88",
       "version_major": 2,
       "version_minor": 0
      },
      "text/plain": [
       "Processing W:   0%|          | 0/100 [00:00<?, ?it/s]"
      ]
     },
     "metadata": {},
     "output_type": "display_data"
    },
    {
     "name": "stdout",
     "output_type": "stream",
     "text": [
      "\n",
      "Gesture W statistics:\n",
      "Successful extractions: 100\n",
      "Failed extractions: 0\n",
      "\n",
      "Processing X (folder 23)\n",
      "Found 100 images\n"
     ]
    },
    {
     "data": {
      "application/vnd.jupyter.widget-view+json": {
       "model_id": "b470b7869d4d484a92f67b88dda15d44",
       "version_major": 2,
       "version_minor": 0
      },
      "text/plain": [
       "Processing X:   0%|          | 0/100 [00:00<?, ?it/s]"
      ]
     },
     "metadata": {},
     "output_type": "display_data"
    },
    {
     "name": "stdout",
     "output_type": "stream",
     "text": [
      "\n",
      "Gesture X statistics:\n",
      "Successful extractions: 100\n",
      "Failed extractions: 0\n",
      "\n",
      "Processing Y (folder 24)\n",
      "Found 100 images\n"
     ]
    },
    {
     "data": {
      "application/vnd.jupyter.widget-view+json": {
       "model_id": "f5b7ee7382844d8cbf10606ae489f557",
       "version_major": 2,
       "version_minor": 0
      },
      "text/plain": [
       "Processing Y:   0%|          | 0/100 [00:00<?, ?it/s]"
      ]
     },
     "metadata": {},
     "output_type": "display_data"
    },
    {
     "name": "stdout",
     "output_type": "stream",
     "text": [
      "\n",
      "Gesture Y statistics:\n",
      "Successful extractions: 100\n",
      "Failed extractions: 0\n",
      "\n",
      "Processing D (folder 3)\n",
      "Found 100 images\n"
     ]
    },
    {
     "data": {
      "application/vnd.jupyter.widget-view+json": {
       "model_id": "ad104958939b45fab6ef38fe5a2d7f0f",
       "version_major": 2,
       "version_minor": 0
      },
      "text/plain": [
       "Processing D:   0%|          | 0/100 [00:00<?, ?it/s]"
      ]
     },
     "metadata": {},
     "output_type": "display_data"
    },
    {
     "name": "stdout",
     "output_type": "stream",
     "text": [
      "\n",
      "Gesture D statistics:\n",
      "Successful extractions: 100\n",
      "Failed extractions: 0\n",
      "\n",
      "Processing E (folder 4)\n",
      "Found 100 images\n"
     ]
    },
    {
     "data": {
      "application/vnd.jupyter.widget-view+json": {
       "model_id": "2024768ecb23469ba160f43fa45d9696",
       "version_major": 2,
       "version_minor": 0
      },
      "text/plain": [
       "Processing E:   0%|          | 0/100 [00:00<?, ?it/s]"
      ]
     },
     "metadata": {},
     "output_type": "display_data"
    },
    {
     "name": "stdout",
     "output_type": "stream",
     "text": [
      "\n",
      "Gesture E statistics:\n",
      "Successful extractions: 100\n",
      "Failed extractions: 0\n",
      "\n",
      "Processing F (folder 5)\n",
      "Found 100 images\n"
     ]
    },
    {
     "data": {
      "application/vnd.jupyter.widget-view+json": {
       "model_id": "eace377452f74ffa8ca50f71058410ba",
       "version_major": 2,
       "version_minor": 0
      },
      "text/plain": [
       "Processing F:   0%|          | 0/100 [00:00<?, ?it/s]"
      ]
     },
     "metadata": {},
     "output_type": "display_data"
    },
    {
     "name": "stdout",
     "output_type": "stream",
     "text": [
      "\n",
      "Gesture F statistics:\n",
      "Successful extractions: 100\n",
      "Failed extractions: 0\n",
      "\n",
      "Processing G (folder 6)\n",
      "Found 100 images\n"
     ]
    },
    {
     "data": {
      "application/vnd.jupyter.widget-view+json": {
       "model_id": "ce8a409b11054a6c8121e9bfac065191",
       "version_major": 2,
       "version_minor": 0
      },
      "text/plain": [
       "Processing G:   0%|          | 0/100 [00:00<?, ?it/s]"
      ]
     },
     "metadata": {},
     "output_type": "display_data"
    },
    {
     "name": "stdout",
     "output_type": "stream",
     "text": [
      "\n",
      "Gesture G statistics:\n",
      "Successful extractions: 100\n",
      "Failed extractions: 0\n",
      "\n",
      "Processing H (folder 7)\n",
      "Found 100 images\n"
     ]
    },
    {
     "data": {
      "application/vnd.jupyter.widget-view+json": {
       "model_id": "932c9b7b02c344aea3cfd30c1e5f0bfc",
       "version_major": 2,
       "version_minor": 0
      },
      "text/plain": [
       "Processing H:   0%|          | 0/100 [00:00<?, ?it/s]"
      ]
     },
     "metadata": {},
     "output_type": "display_data"
    },
    {
     "name": "stdout",
     "output_type": "stream",
     "text": [
      "\n",
      "Gesture H statistics:\n",
      "Successful extractions: 100\n",
      "Failed extractions: 0\n",
      "\n",
      "Processing I (folder 8)\n",
      "Found 100 images\n"
     ]
    },
    {
     "data": {
      "application/vnd.jupyter.widget-view+json": {
       "model_id": "531c6d67b8bf45f48982cc7772cab397",
       "version_major": 2,
       "version_minor": 0
      },
      "text/plain": [
       "Processing I:   0%|          | 0/100 [00:00<?, ?it/s]"
      ]
     },
     "metadata": {},
     "output_type": "display_data"
    },
    {
     "name": "stdout",
     "output_type": "stream",
     "text": [
      "\n",
      "Gesture I statistics:\n",
      "Successful extractions: 100\n",
      "Failed extractions: 0\n",
      "\n",
      "Final dataset statistics:\n",
      "Total samples: 2393\n",
      "\n",
      "Samples per class:\n",
      "Class 0 (A): 100 samples\n",
      "Class 1 (B): 100 samples\n",
      "Class 10 (K): 95 samples\n",
      "Class 11 (L): 100 samples\n",
      "Class 12 (M): 100 samples\n",
      "Class 13 (N): 100 samples\n",
      "Class 14 (O): 100 samples\n",
      "Class 15 (P): 100 samples\n",
      "Class 16 (Q): 100 samples\n",
      "Class 17 (R): 100 samples\n",
      "Class 18 (S): 100 samples\n",
      "Class 19 (T): 100 samples\n",
      "Class 2 (C): 100 samples\n",
      "Class 20 (U): 98 samples\n",
      "Class 21 (V): 100 samples\n",
      "Class 22 (W): 100 samples\n",
      "Class 23 (X): 100 samples\n",
      "Class 24 (Y): 100 samples\n",
      "Class 3 (D): 100 samples\n",
      "Class 4 (E): 100 samples\n",
      "Class 5 (F): 100 samples\n",
      "Class 6 (G): 100 samples\n",
      "Class 7 (H): 100 samples\n",
      "Class 8 (I): 100 samples\n",
      "\n",
      "Dataset processed successfully!\n",
      "Feature shape: (2393, 63)\n",
      "Number of classes: 24\n",
      "\n",
      "Split created:\n",
      "Training samples: 1914\n",
      "Testing samples: 479\n"
     ]
    }
   ],
   "source": [
    "class HandProcessor:\n",
    "    def __init__(self):\n",
    "        # Initialize MediaPipe\n",
    "        self.mp_hands = mp.solutions.hands\n",
    "        self.hands = self.mp_hands.Hands(\n",
    "            static_image_mode=True,\n",
    "            max_num_hands=1,\n",
    "            min_detection_confidence=0.3\n",
    "        )\n",
    "        \n",
    "        # Label mapping\n",
    "        self.label_mapping = {\n",
    "            '0': 'A', '1': 'B', '2': 'C', '3': 'D', '4': 'E',\n",
    "            '5': 'F', '6': 'G', '7': 'H', '8': 'I',\n",
    "            '10': 'K', '11': 'L', '12': 'M', '13': 'N', '14': 'O',\n",
    "            '15': 'P', '16': 'Q', '17': 'R', '18': 'S', '19': 'T',\n",
    "            '20': 'U', '21': 'V', '22': 'W', '23': 'X', '24': 'Y'\n",
    "        }\n",
    "    \n",
    "    def extract_features(self, image):\n",
    "        \"\"\"Extract features from a single image.\"\"\"\n",
    "        # Convert to RGB\n",
    "        image_rgb = cv2.cvtColor(image, cv2.COLOR_BGR2RGB)\n",
    "        \n",
    "        # Process image\n",
    "        results = self.hands.process(image_rgb)\n",
    "        \n",
    "        if not results.multi_hand_landmarks:\n",
    "            return None\n",
    "        \n",
    "        # Get landmarks\n",
    "        landmarks = results.multi_hand_landmarks[0]\n",
    "        \n",
    "        # Extract features (x, y, z coordinates)\n",
    "        features = []\n",
    "        for landmark in landmarks.landmark:\n",
    "            features.extend([landmark.x, landmark.y, landmark.z])\n",
    "            \n",
    "        return np.array(features)\n",
    "    \n",
    "    def process_dataset(self, data_dir):\n",
    "        \"\"\"Process dataset with flattened directory structure.\"\"\"\n",
    "        features = []\n",
    "        labels = []\n",
    "        \n",
    "        # Process each gesture class\n",
    "        for gesture_dir in sorted(self.label_mapping.keys()):\n",
    "            gesture_path = os.path.join(data_dir, gesture_dir)\n",
    "            \n",
    "            if not os.path.exists(gesture_path):\n",
    "                print(f\"Skipping {self.label_mapping[gesture_dir]} (directory {gesture_dir} not found)\")\n",
    "                continue\n",
    "            \n",
    "            print(f\"\\nProcessing {self.label_mapping[gesture_dir]} (folder {gesture_dir})\")\n",
    "            \n",
    "            # Get all jpg files directly in the gesture directory\n",
    "            image_files = [f for f in os.listdir(gesture_path) \n",
    "                         if f.endswith('.jpg') and not f.startswith('.')]\n",
    "            \n",
    "            print(f\"Found {len(image_files)} images\")\n",
    "            \n",
    "            successful_extractions = 0\n",
    "            failed_extractions = 0\n",
    "            \n",
    "            # Process each image\n",
    "            for image_file in tqdm(image_files, desc=f\"Processing {self.label_mapping[gesture_dir]}\"):\n",
    "                image_path = os.path.join(gesture_path, image_file)\n",
    "                \n",
    "                try:\n",
    "                    # Load and process image\n",
    "                    image = cv2.imread(image_path)\n",
    "                    \n",
    "                    if image is None:\n",
    "                        failed_extractions += 1\n",
    "                        continue\n",
    "                    \n",
    "                    # Extract features\n",
    "                    hand_features = self.extract_features(image)\n",
    "                    if hand_features is not None:\n",
    "                        features.append(hand_features)\n",
    "                        labels.append(gesture_dir)\n",
    "                        successful_extractions += 1\n",
    "                    else:\n",
    "                        failed_extractions += 1\n",
    "                except Exception as e:\n",
    "                    print(f\"Error processing {image_file}: {str(e)}\")\n",
    "                    failed_extractions += 1\n",
    "            \n",
    "            print(f\"\\nGesture {self.label_mapping[gesture_dir]} statistics:\")\n",
    "            print(f\"Successful extractions: {successful_extractions}\")\n",
    "            print(f\"Failed extractions: {failed_extractions}\")\n",
    "        \n",
    "        if len(features) == 0:\n",
    "            raise ValueError(\"No valid samples were processed. Check the dataset structure and image files.\")\n",
    "        \n",
    "        features = np.array(features)\n",
    "        labels = np.array(labels)\n",
    "        \n",
    "        print(\"\\nFinal dataset statistics:\")\n",
    "        print(f\"Total samples: {len(features)}\")\n",
    "        print(\"\\nSamples per class:\")\n",
    "        for label in sorted(np.unique(labels)):\n",
    "            count = np.sum(labels == label)\n",
    "            print(f\"Class {label} ({self.label_mapping[label]}): {count} samples\")\n",
    "        \n",
    "        return features, labels\n",
    "\n",
    "# Initialize processor\n",
    "processor = HandProcessor()\n",
    "\n",
    "# Process dataset\n",
    "print(\"Processing dataset...\")\n",
    "try:\n",
    "    X, y = processor.process_dataset(DATA_DIR)\n",
    "    print(\"\\nDataset processed successfully!\")\n",
    "    print(f\"Feature shape: {X.shape}\")\n",
    "    print(f\"Number of classes: {len(np.unique(y))}\")\n",
    "    \n",
    "    # Create train/test split\n",
    "    X_train, X_test, y_train, y_test = train_test_split(\n",
    "        X, y, test_size=0.2, stratify=y, random_state=42\n",
    "    )\n",
    "    \n",
    "    print(\"\\nSplit created:\")\n",
    "    print(f\"Training samples: {X_train.shape[0]}\")\n",
    "    print(f\"Testing samples: {X_test.shape[0]}\")\n",
    "    \n",
    "except Exception as e:\n",
    "    print(f\"\\nError processing dataset: {str(e)}\")"
   ]
  },
  {
   "cell_type": "markdown",
   "metadata": {},
   "source": [
    "## 2. Load and Process Dataset"
   ]
  },
  {
   "cell_type": "code",
   "execution_count": 13,
   "metadata": {},
   "outputs": [
    {
     "name": "stdout",
     "output_type": "stream",
     "text": [
      "\n",
      "Processing A (folder 0)\n",
      "Found 100 images\n"
     ]
    },
    {
     "name": "stderr",
     "output_type": "stream",
     "text": [
      "I0000 00:00:1731391917.204010 1957621 gl_context.cc:357] GL version: 2.1 (2.1 Metal - 88), renderer: Apple M2\n"
     ]
    },
    {
     "data": {
      "application/vnd.jupyter.widget-view+json": {
       "model_id": "48e57890fff04ef88d554a2bc4c63750",
       "version_major": 2,
       "version_minor": 0
      },
      "text/plain": [
       "Processing A:   0%|          | 0/100 [00:00<?, ?it/s]"
      ]
     },
     "metadata": {},
     "output_type": "display_data"
    },
    {
     "name": "stderr",
     "output_type": "stream",
     "text": [
      "W0000 00:00:1731391917.259132 2003487 inference_feedback_manager.cc:114] Feedback manager requires a model with a single signature inference. Disabling support for feedback tensors.\n",
      "W0000 00:00:1731391917.273413 2003487 inference_feedback_manager.cc:114] Feedback manager requires a model with a single signature inference. Disabling support for feedback tensors.\n",
      "/Library/Frameworks/Python.framework/Versions/3.11/lib/python3.11/site-packages/google/protobuf/symbol_database.py:55: UserWarning: SymbolDatabase.GetPrototype() is deprecated. Please use message_factory.GetMessageClass() instead. SymbolDatabase.GetPrototype() will be removed soon.\n",
      "  warnings.warn('SymbolDatabase.GetPrototype() is deprecated. Please '\n"
     ]
    },
    {
     "name": "stdout",
     "output_type": "stream",
     "text": [
      "\n",
      "Gesture A statistics:\n",
      "Successful extractions: 100\n",
      "Failed extractions: 0\n",
      "\n",
      "Processing B (folder 1)\n",
      "Found 100 images\n"
     ]
    },
    {
     "data": {
      "application/vnd.jupyter.widget-view+json": {
       "model_id": "cc77ffd8c4bf4619b78b8dcd0bcda358",
       "version_major": 2,
       "version_minor": 0
      },
      "text/plain": [
       "Processing B:   0%|          | 0/100 [00:00<?, ?it/s]"
      ]
     },
     "metadata": {},
     "output_type": "display_data"
    },
    {
     "name": "stdout",
     "output_type": "stream",
     "text": [
      "\n",
      "Gesture B statistics:\n",
      "Successful extractions: 100\n",
      "Failed extractions: 0\n",
      "\n",
      "Processing K (folder 10)\n",
      "Found 100 images\n"
     ]
    },
    {
     "data": {
      "application/vnd.jupyter.widget-view+json": {
       "model_id": "afe08d5993dd4458a55c596a4e06b78d",
       "version_major": 2,
       "version_minor": 0
      },
      "text/plain": [
       "Processing K:   0%|          | 0/100 [00:00<?, ?it/s]"
      ]
     },
     "metadata": {},
     "output_type": "display_data"
    },
    {
     "name": "stdout",
     "output_type": "stream",
     "text": [
      "\n",
      "Gesture K statistics:\n",
      "Successful extractions: 95\n",
      "Failed extractions: 5\n",
      "\n",
      "Processing L (folder 11)\n",
      "Found 100 images\n"
     ]
    },
    {
     "data": {
      "application/vnd.jupyter.widget-view+json": {
       "model_id": "583c2cf2827348ac8585959740de45c7",
       "version_major": 2,
       "version_minor": 0
      },
      "text/plain": [
       "Processing L:   0%|          | 0/100 [00:00<?, ?it/s]"
      ]
     },
     "metadata": {},
     "output_type": "display_data"
    },
    {
     "name": "stdout",
     "output_type": "stream",
     "text": [
      "\n",
      "Gesture L statistics:\n",
      "Successful extractions: 100\n",
      "Failed extractions: 0\n",
      "\n",
      "Processing M (folder 12)\n",
      "Found 100 images\n"
     ]
    },
    {
     "data": {
      "application/vnd.jupyter.widget-view+json": {
       "model_id": "3e641c98efce40b6afafdc1675632424",
       "version_major": 2,
       "version_minor": 0
      },
      "text/plain": [
       "Processing M:   0%|          | 0/100 [00:00<?, ?it/s]"
      ]
     },
     "metadata": {},
     "output_type": "display_data"
    },
    {
     "name": "stdout",
     "output_type": "stream",
     "text": [
      "\n",
      "Gesture M statistics:\n",
      "Successful extractions: 100\n",
      "Failed extractions: 0\n",
      "\n",
      "Processing N (folder 13)\n",
      "Found 100 images\n"
     ]
    },
    {
     "data": {
      "application/vnd.jupyter.widget-view+json": {
       "model_id": "0074574ddfd84616bdb1ce8ab4f0a446",
       "version_major": 2,
       "version_minor": 0
      },
      "text/plain": [
       "Processing N:   0%|          | 0/100 [00:00<?, ?it/s]"
      ]
     },
     "metadata": {},
     "output_type": "display_data"
    },
    {
     "name": "stdout",
     "output_type": "stream",
     "text": [
      "\n",
      "Gesture N statistics:\n",
      "Successful extractions: 100\n",
      "Failed extractions: 0\n",
      "\n",
      "Processing O (folder 14)\n",
      "Found 100 images\n"
     ]
    },
    {
     "data": {
      "application/vnd.jupyter.widget-view+json": {
       "model_id": "e04d884abe7d42f2ba8d8d7304c368ee",
       "version_major": 2,
       "version_minor": 0
      },
      "text/plain": [
       "Processing O:   0%|          | 0/100 [00:00<?, ?it/s]"
      ]
     },
     "metadata": {},
     "output_type": "display_data"
    },
    {
     "name": "stdout",
     "output_type": "stream",
     "text": [
      "\n",
      "Gesture O statistics:\n",
      "Successful extractions: 100\n",
      "Failed extractions: 0\n",
      "\n",
      "Processing P (folder 15)\n",
      "Found 100 images\n"
     ]
    },
    {
     "data": {
      "application/vnd.jupyter.widget-view+json": {
       "model_id": "36d43db9388e40438f70dbb2f951126f",
       "version_major": 2,
       "version_minor": 0
      },
      "text/plain": [
       "Processing P:   0%|          | 0/100 [00:00<?, ?it/s]"
      ]
     },
     "metadata": {},
     "output_type": "display_data"
    },
    {
     "name": "stdout",
     "output_type": "stream",
     "text": [
      "\n",
      "Gesture P statistics:\n",
      "Successful extractions: 100\n",
      "Failed extractions: 0\n",
      "\n",
      "Processing Q (folder 16)\n",
      "Found 100 images\n"
     ]
    },
    {
     "data": {
      "application/vnd.jupyter.widget-view+json": {
       "model_id": "a2664ccf3ea2491d827206c98c6ae18e",
       "version_major": 2,
       "version_minor": 0
      },
      "text/plain": [
       "Processing Q:   0%|          | 0/100 [00:00<?, ?it/s]"
      ]
     },
     "metadata": {},
     "output_type": "display_data"
    },
    {
     "name": "stdout",
     "output_type": "stream",
     "text": [
      "\n",
      "Gesture Q statistics:\n",
      "Successful extractions: 100\n",
      "Failed extractions: 0\n",
      "\n",
      "Processing R (folder 17)\n",
      "Found 100 images\n"
     ]
    },
    {
     "data": {
      "application/vnd.jupyter.widget-view+json": {
       "model_id": "f1eb5153272448a9afff5d67d41db825",
       "version_major": 2,
       "version_minor": 0
      },
      "text/plain": [
       "Processing R:   0%|          | 0/100 [00:00<?, ?it/s]"
      ]
     },
     "metadata": {},
     "output_type": "display_data"
    },
    {
     "name": "stdout",
     "output_type": "stream",
     "text": [
      "\n",
      "Gesture R statistics:\n",
      "Successful extractions: 100\n",
      "Failed extractions: 0\n",
      "\n",
      "Processing S (folder 18)\n",
      "Found 100 images\n"
     ]
    },
    {
     "data": {
      "application/vnd.jupyter.widget-view+json": {
       "model_id": "86904659b0094ed2be9b22a841b25a39",
       "version_major": 2,
       "version_minor": 0
      },
      "text/plain": [
       "Processing S:   0%|          | 0/100 [00:00<?, ?it/s]"
      ]
     },
     "metadata": {},
     "output_type": "display_data"
    },
    {
     "name": "stdout",
     "output_type": "stream",
     "text": [
      "\n",
      "Gesture S statistics:\n",
      "Successful extractions: 100\n",
      "Failed extractions: 0\n",
      "\n",
      "Processing T (folder 19)\n",
      "Found 100 images\n"
     ]
    },
    {
     "data": {
      "application/vnd.jupyter.widget-view+json": {
       "model_id": "3c82a042cfc843c59fa3cd9977c2229e",
       "version_major": 2,
       "version_minor": 0
      },
      "text/plain": [
       "Processing T:   0%|          | 0/100 [00:00<?, ?it/s]"
      ]
     },
     "metadata": {},
     "output_type": "display_data"
    },
    {
     "name": "stdout",
     "output_type": "stream",
     "text": [
      "\n",
      "Gesture T statistics:\n",
      "Successful extractions: 100\n",
      "Failed extractions: 0\n",
      "\n",
      "Processing C (folder 2)\n",
      "Found 100 images\n"
     ]
    },
    {
     "data": {
      "application/vnd.jupyter.widget-view+json": {
       "model_id": "87899d023c2a43ab937c38ebfa179118",
       "version_major": 2,
       "version_minor": 0
      },
      "text/plain": [
       "Processing C:   0%|          | 0/100 [00:00<?, ?it/s]"
      ]
     },
     "metadata": {},
     "output_type": "display_data"
    },
    {
     "name": "stdout",
     "output_type": "stream",
     "text": [
      "\n",
      "Gesture C statistics:\n",
      "Successful extractions: 100\n",
      "Failed extractions: 0\n",
      "\n",
      "Processing U (folder 20)\n",
      "Found 100 images\n"
     ]
    },
    {
     "data": {
      "application/vnd.jupyter.widget-view+json": {
       "model_id": "6a19bd1181924a4d817741f000aef16b",
       "version_major": 2,
       "version_minor": 0
      },
      "text/plain": [
       "Processing U:   0%|          | 0/100 [00:00<?, ?it/s]"
      ]
     },
     "metadata": {},
     "output_type": "display_data"
    },
    {
     "name": "stdout",
     "output_type": "stream",
     "text": [
      "\n",
      "Gesture U statistics:\n",
      "Successful extractions: 98\n",
      "Failed extractions: 2\n",
      "\n",
      "Processing V (folder 21)\n",
      "Found 100 images\n"
     ]
    },
    {
     "data": {
      "application/vnd.jupyter.widget-view+json": {
       "model_id": "1fb20a96010048e7b98a6c673f25ed2f",
       "version_major": 2,
       "version_minor": 0
      },
      "text/plain": [
       "Processing V:   0%|          | 0/100 [00:00<?, ?it/s]"
      ]
     },
     "metadata": {},
     "output_type": "display_data"
    },
    {
     "name": "stdout",
     "output_type": "stream",
     "text": [
      "\n",
      "Gesture V statistics:\n",
      "Successful extractions: 100\n",
      "Failed extractions: 0\n",
      "\n",
      "Processing W (folder 22)\n",
      "Found 100 images\n"
     ]
    },
    {
     "data": {
      "application/vnd.jupyter.widget-view+json": {
       "model_id": "c1e57a39953b4db6a9828b779af8cb84",
       "version_major": 2,
       "version_minor": 0
      },
      "text/plain": [
       "Processing W:   0%|          | 0/100 [00:00<?, ?it/s]"
      ]
     },
     "metadata": {},
     "output_type": "display_data"
    },
    {
     "name": "stdout",
     "output_type": "stream",
     "text": [
      "\n",
      "Gesture W statistics:\n",
      "Successful extractions: 100\n",
      "Failed extractions: 0\n",
      "\n",
      "Processing X (folder 23)\n",
      "Found 100 images\n"
     ]
    },
    {
     "data": {
      "application/vnd.jupyter.widget-view+json": {
       "model_id": "82e87553c9e04b918088bbe5021ada5e",
       "version_major": 2,
       "version_minor": 0
      },
      "text/plain": [
       "Processing X:   0%|          | 0/100 [00:00<?, ?it/s]"
      ]
     },
     "metadata": {},
     "output_type": "display_data"
    },
    {
     "name": "stdout",
     "output_type": "stream",
     "text": [
      "\n",
      "Gesture X statistics:\n",
      "Successful extractions: 100\n",
      "Failed extractions: 0\n",
      "\n",
      "Processing Y (folder 24)\n",
      "Found 100 images\n"
     ]
    },
    {
     "data": {
      "application/vnd.jupyter.widget-view+json": {
       "model_id": "c21dc52c18ab4738883c76bd1ccdbcf9",
       "version_major": 2,
       "version_minor": 0
      },
      "text/plain": [
       "Processing Y:   0%|          | 0/100 [00:00<?, ?it/s]"
      ]
     },
     "metadata": {},
     "output_type": "display_data"
    },
    {
     "name": "stdout",
     "output_type": "stream",
     "text": [
      "\n",
      "Gesture Y statistics:\n",
      "Successful extractions: 100\n",
      "Failed extractions: 0\n",
      "\n",
      "Processing D (folder 3)\n",
      "Found 100 images\n"
     ]
    },
    {
     "data": {
      "application/vnd.jupyter.widget-view+json": {
       "model_id": "47e0a0dcf8194e0fbc8bc6bee09e86ef",
       "version_major": 2,
       "version_minor": 0
      },
      "text/plain": [
       "Processing D:   0%|          | 0/100 [00:00<?, ?it/s]"
      ]
     },
     "metadata": {},
     "output_type": "display_data"
    },
    {
     "name": "stdout",
     "output_type": "stream",
     "text": [
      "\n",
      "Gesture D statistics:\n",
      "Successful extractions: 100\n",
      "Failed extractions: 0\n",
      "\n",
      "Processing E (folder 4)\n",
      "Found 100 images\n"
     ]
    },
    {
     "data": {
      "application/vnd.jupyter.widget-view+json": {
       "model_id": "a0ded734b50d456581515775199c6dc5",
       "version_major": 2,
       "version_minor": 0
      },
      "text/plain": [
       "Processing E:   0%|          | 0/100 [00:00<?, ?it/s]"
      ]
     },
     "metadata": {},
     "output_type": "display_data"
    },
    {
     "name": "stdout",
     "output_type": "stream",
     "text": [
      "\n",
      "Gesture E statistics:\n",
      "Successful extractions: 100\n",
      "Failed extractions: 0\n",
      "\n",
      "Processing F (folder 5)\n",
      "Found 100 images\n"
     ]
    },
    {
     "data": {
      "application/vnd.jupyter.widget-view+json": {
       "model_id": "3db20cf270f841c0bd845bce0ec73507",
       "version_major": 2,
       "version_minor": 0
      },
      "text/plain": [
       "Processing F:   0%|          | 0/100 [00:00<?, ?it/s]"
      ]
     },
     "metadata": {},
     "output_type": "display_data"
    },
    {
     "name": "stdout",
     "output_type": "stream",
     "text": [
      "\n",
      "Gesture F statistics:\n",
      "Successful extractions: 100\n",
      "Failed extractions: 0\n",
      "\n",
      "Processing G (folder 6)\n",
      "Found 100 images\n"
     ]
    },
    {
     "data": {
      "application/vnd.jupyter.widget-view+json": {
       "model_id": "e860d59c6944491f9d35dbc68a9b00a0",
       "version_major": 2,
       "version_minor": 0
      },
      "text/plain": [
       "Processing G:   0%|          | 0/100 [00:00<?, ?it/s]"
      ]
     },
     "metadata": {},
     "output_type": "display_data"
    },
    {
     "name": "stdout",
     "output_type": "stream",
     "text": [
      "\n",
      "Gesture G statistics:\n",
      "Successful extractions: 100\n",
      "Failed extractions: 0\n",
      "\n",
      "Processing H (folder 7)\n",
      "Found 100 images\n"
     ]
    },
    {
     "data": {
      "application/vnd.jupyter.widget-view+json": {
       "model_id": "cac541a043b04b8f8b28544eb0f54f6b",
       "version_major": 2,
       "version_minor": 0
      },
      "text/plain": [
       "Processing H:   0%|          | 0/100 [00:00<?, ?it/s]"
      ]
     },
     "metadata": {},
     "output_type": "display_data"
    },
    {
     "name": "stdout",
     "output_type": "stream",
     "text": [
      "\n",
      "Gesture H statistics:\n",
      "Successful extractions: 100\n",
      "Failed extractions: 0\n",
      "\n",
      "Processing I (folder 8)\n",
      "Found 100 images\n"
     ]
    },
    {
     "data": {
      "application/vnd.jupyter.widget-view+json": {
       "model_id": "6123bdd3555b403f83d47c43f9513173",
       "version_major": 2,
       "version_minor": 0
      },
      "text/plain": [
       "Processing I:   0%|          | 0/100 [00:00<?, ?it/s]"
      ]
     },
     "metadata": {},
     "output_type": "display_data"
    },
    {
     "name": "stdout",
     "output_type": "stream",
     "text": [
      "\n",
      "Gesture I statistics:\n",
      "Successful extractions: 100\n",
      "Failed extractions: 0\n",
      "\n",
      "Final dataset statistics:\n",
      "Total samples: 2393\n",
      "\n",
      "Samples per class:\n",
      "Class 0 (A): 100 samples\n",
      "Class 1 (B): 100 samples\n",
      "Class 10 (K): 95 samples\n",
      "Class 11 (L): 100 samples\n",
      "Class 12 (M): 100 samples\n",
      "Class 13 (N): 100 samples\n",
      "Class 14 (O): 100 samples\n",
      "Class 15 (P): 100 samples\n",
      "Class 16 (Q): 100 samples\n",
      "Class 17 (R): 100 samples\n",
      "Class 18 (S): 100 samples\n",
      "Class 19 (T): 100 samples\n",
      "Class 2 (C): 100 samples\n",
      "Class 20 (U): 98 samples\n",
      "Class 21 (V): 100 samples\n",
      "Class 22 (W): 100 samples\n",
      "Class 23 (X): 100 samples\n",
      "Class 24 (Y): 100 samples\n",
      "Class 3 (D): 100 samples\n",
      "Class 4 (E): 100 samples\n",
      "Class 5 (F): 100 samples\n",
      "Class 6 (G): 100 samples\n",
      "Class 7 (H): 100 samples\n",
      "Class 8 (I): 100 samples\n"
     ]
    }
   ],
   "source": [
    "# Initialize processor\n",
    "processor = HandProcessor()\n",
    "\n",
    "# Set your dataset path\n",
    "DATA_DIR = 'hands_dataset_cleaned'\n",
    "\n",
    "# Process dataset\n",
    "X, y = processor.process_dataset(DATA_DIR)\n",
    "\n",
    "# Create train/test split\n",
    "X_train, X_test, y_train, y_test = train_test_split(\n",
    "    X, y, test_size=0.2, stratify=y, random_state=42\n",
    ")\n",
    "\n"
   ]
  },
  {
   "cell_type": "markdown",
   "metadata": {},
   "source": [
    "## 3. Train and Evaluate Models"
   ]
  },
  {
   "cell_type": "code",
   "execution_count": 18,
   "metadata": {},
   "outputs": [
    {
     "name": "stdout",
     "output_type": "stream",
     "text": [
      "Saving results to: results/trial1_20241112_142813\n",
      "Training RandomForest...\n",
      "\n",
      "RandomForest Results:\n",
      "              precision    recall  f1-score   support\n",
      "\n",
      "           0       1.00      1.00      1.00        20\n",
      "           1       1.00      1.00      1.00        20\n",
      "          10       1.00      1.00      1.00        19\n",
      "          11       1.00      1.00      1.00        20\n",
      "          12       1.00      1.00      1.00        20\n",
      "          13       1.00      1.00      1.00        20\n",
      "          14       1.00      1.00      1.00        20\n",
      "          15       1.00      1.00      1.00        20\n",
      "          16       1.00      1.00      1.00        20\n",
      "          17       1.00      1.00      1.00        20\n",
      "          18       1.00      1.00      1.00        20\n",
      "          19       1.00      1.00      1.00        20\n",
      "           2       1.00      0.95      0.97        20\n",
      "          20       1.00      1.00      1.00        20\n",
      "          21       1.00      1.00      1.00        20\n",
      "          22       1.00      1.00      1.00        20\n",
      "          23       1.00      1.00      1.00        20\n",
      "          24       1.00      1.00      1.00        20\n",
      "           3       1.00      1.00      1.00        20\n",
      "           4       0.95      1.00      0.98        20\n",
      "           5       1.00      1.00      1.00        20\n",
      "           6       1.00      1.00      1.00        20\n",
      "           7       1.00      1.00      1.00        20\n",
      "           8       1.00      1.00      1.00        20\n",
      "\n",
      "    accuracy                           1.00       479\n",
      "   macro avg       1.00      1.00      1.00       479\n",
      "weighted avg       1.00      1.00      1.00       479\n",
      "\n",
      "Model saved to: results/trial1_20241112_142813/randomforest_model.joblib\n",
      "Training SVM...\n",
      "\n",
      "SVM Results:\n",
      "              precision    recall  f1-score   support\n",
      "\n",
      "           0       0.87      1.00      0.93        20\n",
      "           1       0.91      1.00      0.95        20\n",
      "          10       1.00      0.84      0.91        19\n",
      "          11       1.00      1.00      1.00        20\n",
      "          12       1.00      0.95      0.97        20\n",
      "          13       1.00      1.00      1.00        20\n",
      "          14       1.00      1.00      1.00        20\n",
      "          15       1.00      1.00      1.00        20\n",
      "          16       1.00      1.00      1.00        20\n",
      "          17       1.00      0.95      0.97        20\n",
      "          18       0.94      0.85      0.89        20\n",
      "          19       0.95      1.00      0.98        20\n",
      "           2       1.00      0.90      0.95        20\n",
      "          20       0.00      0.00      0.00        20\n",
      "          21       0.50      1.00      0.67        20\n",
      "          22       1.00      1.00      1.00        20\n",
      "          23       0.91      1.00      0.95        20\n",
      "          24       1.00      1.00      1.00        20\n",
      "           3       0.95      1.00      0.98        20\n",
      "           4       0.95      1.00      0.98        20\n",
      "           5       1.00      0.90      0.95        20\n",
      "           6       0.91      1.00      0.95        20\n",
      "           7       1.00      0.90      0.95        20\n",
      "           8       1.00      1.00      1.00        20\n",
      "\n",
      "    accuracy                           0.93       479\n",
      "   macro avg       0.91      0.93      0.92       479\n",
      "weighted avg       0.91      0.93      0.92       479\n",
      "\n",
      "Model saved to: results/trial1_20241112_142813/svm_model.joblib\n",
      "\n",
      "Training complete! Results saved to: results/trial1_20241112_142813\n"
     ]
    }
   ],
   "source": [
    "import os\n",
    "import joblib\n",
    "from datetime import datetime\n",
    "\n",
    "def create_results_dir():\n",
    "    \"\"\"Create a timestamped directory for results.\"\"\"\n",
    "    timestamp = datetime.now().strftime('%Y%m%d_%H%M%S')\n",
    "    results_dir = f'results/trial1_{timestamp}'\n",
    "    os.makedirs(results_dir, exist_ok=True)\n",
    "    return results_dir\n",
    "\n",
    "def train_and_evaluate(model, X_train, X_test, y_train, y_test, model_name, save_dir):\n",
    "    \"\"\"Train, evaluate, and save the model.\"\"\"\n",
    "    # Train\n",
    "    print(f\"Training {model_name}...\")\n",
    "    model.fit(X_train, y_train)\n",
    "    \n",
    "    # Predict\n",
    "    y_pred = model.predict(X_test)\n",
    "    \n",
    "    # Print results\n",
    "    print(f\"\\n{model_name} Results:\")\n",
    "    print(classification_report(y_test, y_pred))\n",
    "    \n",
    "    # Plot confusion matrix\n",
    "    cm = confusion_matrix(y_test, y_pred)\n",
    "    plt.figure(figsize=(15, 15))\n",
    "    sns.heatmap(cm, annot=True, fmt='d', cmap='Blues')\n",
    "    plt.title(f'Confusion Matrix - {model_name}')\n",
    "    plt.ylabel('True Label')\n",
    "    plt.xlabel('Predicted Label')\n",
    "    \n",
    "    # Save confusion matrix plot\n",
    "    plt.savefig(os.path.join(save_dir, f'{model_name.lower()}_confusion_matrix.png'))\n",
    "    plt.close()\n",
    "    \n",
    "    # Save model\n",
    "    model_path = os.path.join(save_dir, f'{model_name.lower()}_model.joblib')\n",
    "    joblib.dump(model, model_path)\n",
    "    print(f\"Model saved to: {model_path}\")\n",
    "    \n",
    "    # Save additional info\n",
    "    info = {\n",
    "        'label_mapping': processor.label_mapping,\n",
    "        'feature_shape': X_train.shape[1],\n",
    "        'num_classes': len(np.unique(y_train))\n",
    "    }\n",
    "    info_path = os.path.join(save_dir, f'{model_name.lower()}_info.joblib')\n",
    "    joblib.dump(info, info_path)\n",
    "    \n",
    "    return model\n",
    "\n",
    "# Create results directory\n",
    "results_dir = create_results_dir()\n",
    "print(f\"Saving results to: {results_dir}\")\n",
    "\n",
    "# Train Random Forest\n",
    "rf_model = RandomForestClassifier(n_estimators=100, random_state=42)\n",
    "rf_model = train_and_evaluate(rf_model, X_train, X_test, y_train, y_test, \n",
    "                            \"RandomForest\", results_dir)\n",
    "\n",
    "# Train SVM\n",
    "svm_model = SVC(kernel='rbf', random_state=42)\n",
    "svm_model = train_and_evaluate(svm_model, X_train, X_test, y_train, y_test, \n",
    "                             \"SVM\", results_dir)\n",
    "\n",
    "# Save a summary of the results\n",
    "with open(os.path.join(results_dir, 'training_summary.txt'), 'w') as f:\n",
    "    f.write(\"Sign Language Recognition - Trial 1 Results\\n\")\n",
    "    f.write(\"=======================================\\n\\n\")\n",
    "    f.write(f\"Training date: {datetime.now().strftime('%Y-%m-%d %H:%M:%S')}\\n\")\n",
    "    f.write(f\"Dataset size: {len(X_train) + len(X_test)} samples\\n\")\n",
    "    f.write(f\"Training samples: {len(X_train)}\\n\")\n",
    "    f.write(f\"Testing samples: {len(X_test)}\\n\")\n",
    "    f.write(f\"Number of features: {X_train.shape[1]}\\n\")\n",
    "    f.write(f\"Number of classes: {len(np.unique(y_train))}\\n\\n\")\n",
    "    \n",
    "    # Class distribution\n",
    "    f.write(\"Class distribution:\\n\")\n",
    "    for label in sorted(processor.label_mapping.keys()):\n",
    "        count = np.sum(y_train == label) + np.sum(y_test == label)\n",
    "        f.write(f\"Class {label} ({processor.label_mapping[label]}): {count} samples\\n\")\n",
    "\n",
    "print(f\"\\nTraining complete! Results saved to: {results_dir}\")"
   ]
  }
 ],
 "metadata": {
  "kernelspec": {
   "display_name": "Python 3",
   "language": "python",
   "name": "python3"
  },
  "language_info": {
   "codemirror_mode": {
    "name": "ipython",
    "version": 3
   },
   "file_extension": ".py",
   "mimetype": "text/x-python",
   "name": "python",
   "nbconvert_exporter": "python",
   "pygments_lexer": "ipython3",
   "version": "3.11.5"
  }
 },
 "nbformat": 4,
 "nbformat_minor": 2
}
